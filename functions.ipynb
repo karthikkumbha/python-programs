{
  "nbformat": 4,
  "nbformat_minor": 0,
  "metadata": {
    "colab": {
      "name": "functions.ipynb",
      "provenance": [],
      "collapsed_sections": [],
      "authorship_tag": "ABX9TyP+riZbk1Jg6MQVcEW4vtBM",
      "include_colab_link": true
    },
    "kernelspec": {
      "name": "python3",
      "display_name": "Python 3"
    },
    "language_info": {
      "name": "python"
    }
  },
  "cells": [
    {
      "cell_type": "markdown",
      "metadata": {
        "id": "view-in-github",
        "colab_type": "text"
      },
      "source": [
        "<a href=\"https://colab.research.google.com/github/karthikkumbha/python-programs/blob/main/functions.ipynb\" target=\"_parent\"><img src=\"https://colab.research.google.com/assets/colab-badge.svg\" alt=\"Open In Colab\"/></a>"
      ]
    },
    {
      "cell_type": "code",
      "source": [
        "def  karthik():\n",
        "  print(\"hello from karthik\")\n",
        "karthik()"
      ],
      "metadata": {
        "colab": {
          "base_uri": "https://localhost:8080/"
        },
        "id": "OFy25T1ksMZo",
        "outputId": "174f285b-510f-4a0a-fb9a-bbf051519f6f"
      },
      "execution_count": null,
      "outputs": [
        {
          "output_type": "stream",
          "name": "stdout",
          "text": [
            "hello from karthik\n"
          ]
        }
      ]
    },
    {
      "cell_type": "code",
      "source": [
        "def karthik(sai):\n",
        "  print(sai+\"karthik\")\n",
        "karthik(\"cool \")\n",
        "karthik(\"great \")  \n",
        "karthik(\"good \")\n"
      ],
      "metadata": {
        "colab": {
          "base_uri": "https://localhost:8080/"
        },
        "id": "hURh0PvysgPg",
        "outputId": "7cb9b970-a9ca-4398-bcc9-31e673a1e690"
      },
      "execution_count": null,
      "outputs": [
        {
          "output_type": "stream",
          "name": "stdout",
          "text": [
            "cool karthik\n",
            "great karthik\n",
            "good karthik\n"
          ]
        }
      ]
    },
    {
      "cell_type": "code",
      "source": [
        "def karthik(sai,vishnu):\n",
        "  print(sai+ \"k.karthik\"+vishnu)\n",
        "karthik(\"Great\",\" wonderful\")  "
      ],
      "metadata": {
        "colab": {
          "base_uri": "https://localhost:8080/"
        },
        "id": "U5ALuf8mtcsP",
        "outputId": "9ebdb849-43ea-4f8c-d9d8-64f700f9bce9"
      },
      "execution_count": null,
      "outputs": [
        {
          "output_type": "stream",
          "name": "stdout",
          "text": [
            "Greatk.karthik wonderful\n"
          ]
        }
      ]
    },
    {
      "cell_type": "markdown",
      "source": [
        "**with arguement and without return**"
      ],
      "metadata": {
        "id": "8Eo-FjxZuuYA"
      }
    },
    {
      "cell_type": "code",
      "source": [
        "def votting(gender,name,age):\n",
        "  print(\"name: \"+ name)\n",
        "  print(\"gender: \"+ gender)\n",
        "  print(\"age:  \" +  age)\n",
        "votting(\"karthik\",\"male\",\"18\")  "
      ],
      "metadata": {
        "id": "KwyUIGRZu5y_",
        "colab": {
          "base_uri": "https://localhost:8080/"
        },
        "outputId": "5191bc20-e9c5-4917-f179-c8f46a0475bc"
      },
      "execution_count": 4,
      "outputs": [
        {
          "output_type": "stream",
          "name": "stdout",
          "text": [
            "name: male\n",
            "gender: karthik\n",
            "age:  18\n"
          ]
        }
      ]
    },
    {
      "cell_type": "markdown",
      "source": [
        "****without arguement and without return"
      ],
      "metadata": {
        "id": "xwwq2k7I1Y6R"
      }
    },
    {
      "cell_type": "code",
      "source": [
        "def karthik():\n",
        "  print(\"hello from sai\")\n",
        "karthik()  "
      ],
      "metadata": {
        "colab": {
          "base_uri": "https://localhost:8080/"
        },
        "id": "F6OxRscj09Kx",
        "outputId": "a7020ed7-2cfc-4c72-99ec-d22854aa81ab"
      },
      "execution_count": 5,
      "outputs": [
        {
          "output_type": "stream",
          "name": "stdout",
          "text": [
            "hello from sai\n"
          ]
        }
      ]
    },
    {
      "cell_type": "markdown",
      "source": [
        "**with arguement and with return**"
      ],
      "metadata": {
        "id": "P4cASTuW13B9"
      }
    },
    {
      "cell_type": "code",
      "source": [
        "def karthik(x):\n",
        "  return 5*x\n",
        "print(karthik(40))\n",
        "print(karthik(90))\n",
        "print(karthik(60))"
      ],
      "metadata": {
        "colab": {
          "base_uri": "https://localhost:8080/"
        },
        "id": "0EsxOm9y1z7l",
        "outputId": "bdd0cc34-39ce-4db7-9f2a-4418950b0d5e"
      },
      "execution_count": 18,
      "outputs": [
        {
          "output_type": "stream",
          "name": "stdout",
          "text": [
            "200\n",
            "450\n",
            "300\n"
          ]
        }
      ]
    },
    {
      "cell_type": "markdown",
      "source": [
        "**without arguement and with return**"
      ],
      "metadata": {
        "id": "oBaTd8Zd4Irn"
      }
    },
    {
      "cell_type": "code",
      "source": [
        "def sum():\n",
        "  c=int(input())\n",
        "  return c\n",
        "print(sum())     "
      ],
      "metadata": {
        "colab": {
          "base_uri": "https://localhost:8080/"
        },
        "id": "xxEtx2ir2VsR",
        "outputId": "92173bc8-7ebe-45be-dc87-5d021ed1b579"
      },
      "execution_count": 19,
      "outputs": [
        {
          "output_type": "stream",
          "name": "stdout",
          "text": [
            "7\n",
            "7\n"
          ]
        }
      ]
    },
    {
      "cell_type": "code",
      "source": [
        ""
      ],
      "metadata": {
        "id": "clarf5Up3sjB"
      },
      "execution_count": null,
      "outputs": []
    }
  ]
}