{
  "nbformat": 4,
  "nbformat_minor": 0,
  "metadata": {
    "colab": {
      "name": "Tuples.ipynb",
      "provenance": [],
      "collapsed_sections": [],
      "toc_visible": true,
      "authorship_tag": "ABX9TyMjKhtwQf2TopZz4pKCuFGK",
      "include_colab_link": true
    },
    "kernelspec": {
      "name": "python3",
      "display_name": "Python 3"
    },
    "language_info": {
      "name": "python"
    }
  },
  "cells": [
    {
      "cell_type": "markdown",
      "metadata": {
        "id": "view-in-github",
        "colab_type": "text"
      },
      "source": [
        "<a href=\"https://colab.research.google.com/github/karthikkumbha/python-programs/blob/main/Tuples.ipynb\" target=\"_parent\"><img src=\"https://colab.research.google.com/assets/colab-badge.svg\" alt=\"Open In Colab\"/></a>"
      ]
    },
    {
      "cell_type": "code",
      "source": [
        "friend=(\"ganesh\",\"sailendra\",\"afzal\")\n",
        "print(friend)\n",
        "print(len(friend))\n",
        "print(type(friend))"
      ],
      "metadata": {
        "colab": {
          "base_uri": "https://localhost:8080/"
        },
        "id": "J2AnejOevyoJ",
        "outputId": "d51851c2-82a9-40eb-96d4-8664271432a3"
      },
      "execution_count": 8,
      "outputs": [
        {
          "output_type": "stream",
          "name": "stdout",
          "text": [
            "('ganesh', 'sailendra', 'afzal')\n",
            "3\n",
            "<class 'tuple'>\n"
          ]
        }
      ]
    },
    {
      "cell_type": "markdown",
      "source": [
        "\n",
        "#Create Tuple With One Item"
      ],
      "metadata": {
        "id": "9U5mJsUzxuwf"
      }
    },
    {
      "cell_type": "code",
      "source": [
        "friend=(\"ganesh\",)\n",
        "print(type(friend))"
      ],
      "metadata": {
        "colab": {
          "base_uri": "https://localhost:8080/"
        },
        "id": "fm56yENhxx2P",
        "outputId": "c4eda58c-24d8-4b15-95e6-d295c7fd9d52"
      },
      "execution_count": 9,
      "outputs": [
        {
          "output_type": "stream",
          "name": "stdout",
          "text": [
            "<class 'tuple'>\n"
          ]
        }
      ]
    },
    {
      "cell_type": "code",
      "source": [
        "friend1=(\"ganesh\",\"sailendra\",\"afzal\",\"dhanyu\")\n",
        "friend2=(\"uday\",\"jayanth\",\"nagesh\")\n",
        "friend3=(\"sagar\",\"sailendra\",\"afzal\")\n",
        "print(friend1)\n",
        "print(friend2)\n",
        "print(friend3)"
      ],
      "metadata": {
        "colab": {
          "base_uri": "https://localhost:8080/"
        },
        "id": "gItoj_tryb2w",
        "outputId": "579c4b8c-35e9-489e-a800-eb269af83705"
      },
      "execution_count": 10,
      "outputs": [
        {
          "output_type": "stream",
          "name": "stdout",
          "text": [
            "('ganesh', 'sailendra', 'afzal', 'dhanyu')\n",
            "('uday', 'jayanth', 'nagesh')\n",
            "('sagar', 'sailendra', 'afzal')\n"
          ]
        }
      ]
    },
    {
      "cell_type": "code",
      "source": [
        "friend=(\"ganesh\",\"1\",\"sailendra\",\"afzal\",\"dhanyu\")\n",
        "print(friend)"
      ],
      "metadata": {
        "colab": {
          "base_uri": "https://localhost:8080/"
        },
        "id": "fAnnImmhzLgw",
        "outputId": "c5f31ef2-bc0f-4e57-db95-4b25a1d495b0"
      },
      "execution_count": 11,
      "outputs": [
        {
          "output_type": "stream",
          "name": "stdout",
          "text": [
            "('ganesh', '1', 'sailendra', 'afzal', 'dhanyu')\n"
          ]
        }
      ]
    },
    {
      "cell_type": "code",
      "source": [
        "friend=tuple((\"ganesh\",\"sailendra\",\"afzal\",\"dhanyu\"))\n",
        "print(friend)"
      ],
      "metadata": {
        "colab": {
          "base_uri": "https://localhost:8080/"
        },
        "id": "AvJ7CoMxzbcf",
        "outputId": "06c5c2b0-bc88-4de6-c813-35ca2b2d8f9a"
      },
      "execution_count": 13,
      "outputs": [
        {
          "output_type": "stream",
          "name": "stdout",
          "text": [
            "('ganesh', 'sailendra', 'afzal', 'dhanyu')\n"
          ]
        }
      ]
    },
    {
      "cell_type": "markdown",
      "source": [
        "# Access Tuple Items"
      ],
      "metadata": {
        "id": "8yqAG99u1FN3"
      }
    },
    {
      "cell_type": "code",
      "source": [
        "friend=(\"ganesh\",\"sailendra\",\"afzal\")\n",
        "print(friend[1])"
      ],
      "metadata": {
        "colab": {
          "base_uri": "https://localhost:8080/"
        },
        "id": "ZIcZ3Sgw1CcO",
        "outputId": "72e49238-b1a2-4f60-e547-b1b92f3a9c87"
      },
      "execution_count": 15,
      "outputs": [
        {
          "output_type": "stream",
          "name": "stdout",
          "text": [
            "sailendra\n"
          ]
        }
      ]
    },
    {
      "cell_type": "code",
      "source": [
        "friend=(\"ganesh\",\"sailendra\",\"afzal\")\n",
        "print(friend[-1])"
      ],
      "metadata": {
        "colab": {
          "base_uri": "https://localhost:8080/"
        },
        "id": "LOsjX4yT1V8u",
        "outputId": "f5d35014-1e1a-4b72-eedd-4390feb48549"
      },
      "execution_count": 16,
      "outputs": [
        {
          "output_type": "stream",
          "name": "stdout",
          "text": [
            "afzal\n"
          ]
        }
      ]
    },
    {
      "cell_type": "code",
      "source": [
        "friend=(\"ganesh\",\"sailendra\",\"afzal\")\n",
        "print(friend[0:1])"
      ],
      "metadata": {
        "colab": {
          "base_uri": "https://localhost:8080/"
        },
        "id": "mf5AaEPV1gId",
        "outputId": "9ee95373-46ae-4dbb-d7f1-92309b9c1802"
      },
      "execution_count": 19,
      "outputs": [
        {
          "output_type": "stream",
          "name": "stdout",
          "text": [
            "('ganesh',)\n"
          ]
        }
      ]
    },
    {
      "cell_type": "code",
      "source": [
        "friend=(\"ganesh\",\"sailendra\",\"afzal\")\n",
        "print(friend[:2])"
      ],
      "metadata": {
        "colab": {
          "base_uri": "https://localhost:8080/"
        },
        "id": "9eMkSG2Y1qct",
        "outputId": "9c5f480a-36f7-4526-fdcf-82761aea4d81"
      },
      "execution_count": 20,
      "outputs": [
        {
          "output_type": "stream",
          "name": "stdout",
          "text": [
            "('ganesh', 'sailendra')\n"
          ]
        }
      ]
    },
    {
      "cell_type": "code",
      "source": [
        "friend=(\"ganesh\",\"sailendra\",\"afzal\")\n",
        "print(friend[2:])"
      ],
      "metadata": {
        "colab": {
          "base_uri": "https://localhost:8080/"
        },
        "id": "bGdgcSJQ14xd",
        "outputId": "97c3c677-d1f8-4d93-a1f0-030e13f737a8"
      },
      "execution_count": 21,
      "outputs": [
        {
          "output_type": "stream",
          "name": "stdout",
          "text": [
            "('afzal',)\n"
          ]
        }
      ]
    },
    {
      "cell_type": "code",
      "source": [
        "friend=(\"ganesh\",\"sailendra\",\"afzal\")\n",
        "print(friend[-2:-1])"
      ],
      "metadata": {
        "colab": {
          "base_uri": "https://localhost:8080/"
        },
        "id": "9cSO4oJG1_Au",
        "outputId": "c4a3992a-fe88-441b-d9cb-e46cd52360b7"
      },
      "execution_count": 23,
      "outputs": [
        {
          "output_type": "stream",
          "name": "stdout",
          "text": [
            "('sailendra',)\n"
          ]
        }
      ]
    },
    {
      "cell_type": "code",
      "source": [
        "friend=(\"ganesh\",\"sailendra\",\"afzal\")\n",
        "if \"afzal\" is friend:\n",
        "       print(\"yes, 'afzal' is  myfriend\")"
      ],
      "metadata": {
        "id": "8wpczMaE2QxO"
      },
      "execution_count": 29,
      "outputs": []
    },
    {
      "cell_type": "markdown",
      "source": [
        "**Update** **Tuples**"
      ],
      "metadata": {
        "id": "kv8Drg7i3TmX"
      }
    },
    {
      "cell_type": "code",
      "source": [
        "friend=(\"ganesh\",\"sailendra\",\"afzal\")\n",
        "y=list(friend)\n",
        "y[1]='dhanyu'\n",
        "friend=tuple(y)\n",
        "print(friend)"
      ],
      "metadata": {
        "colab": {
          "base_uri": "https://localhost:8080/"
        },
        "id": "Ssk2YYiQ26F9",
        "outputId": "3b46922b-a99f-41f6-a3b0-4dcdb93ac280"
      },
      "execution_count": 30,
      "outputs": [
        {
          "output_type": "stream",
          "name": "stdout",
          "text": [
            "('ganesh', 'dhanyu', 'afzal')\n"
          ]
        }
      ]
    },
    {
      "cell_type": "code",
      "source": [
        "friend=(\"ganesh\",\"sailendra\",\"afzal\")\n",
        "y=list(friend)\n",
        "y.append(\"dhanyu bokka\")\n",
        "friend=tuple(y)"
      ],
      "metadata": {
        "id": "TucwOQJg4pqt"
      },
      "execution_count": 32,
      "outputs": []
    },
    {
      "cell_type": "code",
      "source": [
        "friend=(\"ganesh\",\"sailendra\",\"afzal\")\n",
        "y=(\"dhanyu\",)\n",
        "friend+= y\n",
        "print(friend)"
      ],
      "metadata": {
        "colab": {
          "base_uri": "https://localhost:8080/"
        },
        "id": "gG3_zXhJ5KB9",
        "outputId": "63ccc5fa-bfdb-4793-9f19-bf56cbf396ff"
      },
      "execution_count": 36,
      "outputs": [
        {
          "output_type": "stream",
          "name": "stdout",
          "text": [
            "('ganesh', 'sailendra', 'afzal', 'dhanyu')\n"
          ]
        }
      ]
    },
    {
      "cell_type": "code",
      "source": [
        "friend=(\"ganesh\",\"sailendra\",\"afzal\")\n",
        "y = list(friend)\n",
        "y.remove(\"sailendra\")\n",
        "friend = tuple(y)"
      ],
      "metadata": {
        "id": "9khY5hyh5m05"
      },
      "execution_count": 37,
      "outputs": []
    },
    {
      "cell_type": "markdown",
      "source": [
        "**unpack**"
      ],
      "metadata": {
        "id": "EG-2hBBw9HYD"
      }
    },
    {
      "cell_type": "code",
      "source": [
        "fruits = (\"apple\", \"banana\", \"cherry\")\n",
        "\n",
        "(green, yellow, red) = fruits\n",
        "\n",
        "print(green)\n",
        "print(yellow)\n",
        "print(red)"
      ],
      "metadata": {
        "colab": {
          "base_uri": "https://localhost:8080/"
        },
        "id": "1eNwZDB99FXT",
        "outputId": "b2b2778b-2baa-4813-9e86-b7f6d6dc7df6"
      },
      "execution_count": 39,
      "outputs": [
        {
          "output_type": "stream",
          "name": "stdout",
          "text": [
            "apple\n",
            "banana\n",
            "cherry\n"
          ]
        }
      ]
    },
    {
      "cell_type": "code",
      "source": [
        "fruits = (\"apple\", \"banana\", \"cherry\", \"strawberry\", \"raspberry\")\n",
        "\n",
        "(green, yellow, *red) = fruits\n",
        "\n",
        "print(green)\n",
        "print(yellow)\n",
        "print(red)"
      ],
      "metadata": {
        "colab": {
          "base_uri": "https://localhost:8080/"
        },
        "id": "H2qcXHim9PEL",
        "outputId": "027ed956-1e86-4457-c81b-d23ec60a1e2e"
      },
      "execution_count": 40,
      "outputs": [
        {
          "output_type": "stream",
          "name": "stdout",
          "text": [
            "apple\n",
            "banana\n",
            "['cherry', 'strawberry', 'raspberry']\n"
          ]
        }
      ]
    },
    {
      "cell_type": "code",
      "source": [
        "fruits = (\"apple\", \"mango\", \"papaya\", \"pineapple\", \"cherry\")\n",
        "\n",
        "(green, *tropic, red) = fruits\n",
        "\n",
        "print(green)\n",
        "print(tropic)\n",
        "print(red)"
      ],
      "metadata": {
        "colab": {
          "base_uri": "https://localhost:8080/"
        },
        "id": "-kLC8_Wl9Xa1",
        "outputId": "995854c6-5c7d-4135-ff2b-ef4a2457fb2b"
      },
      "execution_count": 41,
      "outputs": [
        {
          "output_type": "stream",
          "name": "stdout",
          "text": [
            "apple\n",
            "['mango', 'papaya', 'pineapple']\n",
            "cherry\n"
          ]
        }
      ]
    },
    {
      "cell_type": "markdown",
      "source": [
        "**Loop Tuples**"
      ],
      "metadata": {
        "id": "xZ-g7oiK9_Ft"
      }
    },
    {
      "cell_type": "code",
      "source": [
        "friend=(\"sai\",\"ganesh\",\"sai\")\n",
        "for x in friend:\n",
        "  print(x)"
      ],
      "metadata": {
        "colab": {
          "base_uri": "https://localhost:8080/"
        },
        "id": "XIjjT6Vy-AuL",
        "outputId": "7369baa4-3474-4fa8-d9bd-4579dcbcb491"
      },
      "execution_count": 42,
      "outputs": [
        {
          "output_type": "stream",
          "name": "stdout",
          "text": [
            "sai\n",
            "ganesh\n",
            "sai\n"
          ]
        }
      ]
    },
    {
      "cell_type": "code",
      "source": [
        "friend=(\"sai\",\"ganesh\",\"sai\")\n",
        "for i in range(len(friend)):\n",
        "    print(friend[i])"
      ],
      "metadata": {
        "colab": {
          "base_uri": "https://localhost:8080/"
        },
        "id": "DVm8NuDsBWkr",
        "outputId": "6766c0b8-0533-4f2f-c0d4-c2ebb90aeb09"
      },
      "execution_count": 44,
      "outputs": [
        {
          "output_type": "stream",
          "name": "stdout",
          "text": [
            "sai\n",
            "ganesh\n",
            "sai\n"
          ]
        }
      ]
    },
    {
      "cell_type": "code",
      "source": [
        "friend=(\"sai\",\"ganesh\",\"sai\")\n",
        "i = 0\n",
        "while i < len(friend):\n",
        "  print(friend[i])\n",
        "  i= i+1"
      ],
      "metadata": {
        "colab": {
          "base_uri": "https://localhost:8080/"
        },
        "id": "TK4wumQtBvnJ",
        "outputId": "c41ccbe5-7c21-4a4e-808c-f03c640ddcd0"
      },
      "execution_count": 47,
      "outputs": [
        {
          "output_type": "stream",
          "name": "stdout",
          "text": [
            "sai\n",
            "ganesh\n",
            "sai\n"
          ]
        }
      ]
    },
    {
      "cell_type": "markdown",
      "source": [
        "**Join Tuples**"
      ],
      "metadata": {
        "id": "eTvF09yeCgX6"
      }
    },
    {
      "cell_type": "code",
      "source": [
        "tuple1 = (\"a\", \"b\" , \"c\")\n",
        "tuple2 = (1, 2, 3)\n",
        "\n",
        "tuple3 = tuple1 + tuple2\n",
        "print(tuple3)"
      ],
      "metadata": {
        "colab": {
          "base_uri": "https://localhost:8080/"
        },
        "id": "ISg4oFEgCiop",
        "outputId": "6af0ccb6-83ba-4404-b098-25a03b50aad2"
      },
      "execution_count": 48,
      "outputs": [
        {
          "output_type": "stream",
          "name": "stdout",
          "text": [
            "('a', 'b', 'c', 1, 2, 3)\n"
          ]
        }
      ]
    },
    {
      "cell_type": "code",
      "source": [
        "friend=(\"sai\",\"ganesh\",\"sai\")\n",
        "mytuple = friend*2\n",
        "print(mytuple)"
      ],
      "metadata": {
        "colab": {
          "base_uri": "https://localhost:8080/"
        },
        "id": "-8nfLCdoCoZ6",
        "outputId": "f738a7d7-19e3-4a6d-acff-e57192dfad8a"
      },
      "execution_count": 49,
      "outputs": [
        {
          "output_type": "stream",
          "name": "stdout",
          "text": [
            "('sai', 'ganesh', 'sai', 'sai', 'ganesh', 'sai')\n"
          ]
        }
      ]
    },
    {
      "cell_type": "code",
      "source": [
        ""
      ],
      "metadata": {
        "id": "ZtXBtVnOC7nZ"
      },
      "execution_count": null,
      "outputs": []
    }
  ]
}