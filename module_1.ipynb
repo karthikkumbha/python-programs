{
  "nbformat": 4,
  "nbformat_minor": 0,
  "metadata": {
    "colab": {
      "name": "module 1.ipynb",
      "provenance": [],
      "collapsed_sections": [],
      "authorship_tag": "ABX9TyON87rU7jzHaGft0VBvr6ll",
      "include_colab_link": true
    },
    "kernelspec": {
      "name": "python3",
      "display_name": "Python 3"
    },
    "language_info": {
      "name": "python"
    }
  },
  "cells": [
    {
      "cell_type": "markdown",
      "metadata": {
        "id": "view-in-github",
        "colab_type": "text"
      },
      "source": [
        "<a href=\"https://colab.research.google.com/github/karthikkumbha/python-programs/blob/main/module_1.ipynb\" target=\"_parent\"><img src=\"https://colab.research.google.com/assets/colab-badge.svg\" alt=\"Open In Colab\"/></a>"
      ]
    },
    {
      "cell_type": "code",
      "execution_count": null,
      "metadata": {
        "colab": {
          "base_uri": "https://localhost:8080/"
        },
        "id": "m8yiwn2xQe20",
        "outputId": "3afa53c2-7a05-4dcf-9a70-b7ca8c064b69"
      },
      "outputs": [
        {
          "output_type": "stream",
          "name": "stdout",
          "text": [
            "20\n",
            "30\n",
            "-150\n"
          ]
        }
      ],
      "source": [
        " #Accept input from user and store it in variable and print the value\n",
        "a=100\n",
        "b=200\n",
        "c=int(input())\n",
        "d=int(input())\n",
        "f=a-(b)-(c)-(d)\n",
        "print(f) "
      ]
    },
    {
      "cell_type": "code",
      "source": [
        "#Printing all even numbers, odd numbers, count of even numbers, count of odd numbers\n",
        "for r in range(101,200,2):\n",
        "  print(r)"
      ],
      "metadata": {
        "colab": {
          "base_uri": "https://localhost:8080/"
        },
        "id": "iA6wzlJve_MW",
        "outputId": "0d743d0f-5aaa-4e67-d156-3f3880d95364"
      },
      "execution_count": null,
      "outputs": [
        {
          "output_type": "stream",
          "name": "stdout",
          "text": [
            "101\n",
            "103\n",
            "105\n",
            "107\n",
            "109\n",
            "111\n",
            "113\n",
            "115\n",
            "117\n",
            "119\n",
            "121\n",
            "123\n",
            "125\n",
            "127\n",
            "129\n",
            "131\n",
            "133\n",
            "135\n",
            "137\n",
            "139\n",
            "141\n",
            "143\n",
            "145\n",
            "147\n",
            "149\n",
            "151\n",
            "153\n",
            "155\n",
            "157\n",
            "159\n",
            "161\n",
            "163\n",
            "165\n",
            "167\n",
            "169\n",
            "171\n",
            "173\n",
            "175\n",
            "177\n",
            "179\n",
            "181\n",
            "183\n",
            "185\n",
            "187\n",
            "189\n",
            "191\n",
            "193\n",
            "195\n",
            "197\n",
            "199\n"
          ]
        }
      ]
    },
    {
      "cell_type": "code",
      "source": [
        "#Take 2 numbers as user input and add, multiply, divide, subtract, remainder\n",
        "a=int(input(\"enter the number 1 \"))\n",
        "b=int(input(\"enter the number 2 \"))\n",
        "sum=a+b\n",
        "print(sum)\n",
        "multiply=a*b\n",
        "print(multiply)\n",
        "divide=a/b\n",
        "print(divide)\n",
        "subtract=a-b\n",
        "print(subtract)\n"
      ],
      "metadata": {
        "id": "wU2Yv__5R8tX",
        "colab": {
          "base_uri": "https://localhost:8080/"
        },
        "outputId": "e459e7e2-c462-491b-f3c2-5f9b7c4d91ad"
      },
      "execution_count": null,
      "outputs": [
        {
          "output_type": "stream",
          "name": "stdout",
          "text": [
            "enter the number 1 12\n",
            "enter the number 2 2\n",
            "14\n",
            "24\n",
            "6.0\n",
            "10\n"
          ]
        }
      ]
    },
    {
      "cell_type": "code",
      "source": [
        "#Compute compound interest using loop for a certain principal and interest amount\n",
        "n=int(input(\"enter the amount\"))\n",
        "rate=int(input(\"enter the rate\"))\n",
        "years=int(input(\"enter the number of years\"))\n",
        "n=n+((n*rate)/100)\n",
        "print(n)"
      ],
      "metadata": {
        "id": "MdU_Gt2Can2x",
        "colab": {
          "base_uri": "https://localhost:8080/"
        },
        "outputId": "ed6fff68-0919-4996-9cb6-7b30b4bd1f8c"
      },
      "execution_count": null,
      "outputs": [
        {
          "output_type": "stream",
          "name": "stdout",
          "text": [
            "enter the amount10000\n",
            "enter the rate3\n",
            "enter the number of years5\n",
            "10300.0\n"
          ]
        }
      ]
    },
    {
      "cell_type": "code",
      "source": [
        "#Accepting 5 different subject marks from user and displaying the grade of the studen\n",
        "a=int(input(\"enter the maths marks \"))\n",
        "b=int(input(\"enter the physics marks \"))\n",
        "c=int(input(\"enter the chemistry marks \"))\n",
        "d=int(input(\"enter the python marks \"))\n",
        "e=int(input(\"enter the social marks \"))\n",
        "if(a+b+c+d+e)>=450:\n",
        "   print(\"A grade\")\n",
        "elif(a+b+c+d+e)>=400 and (a+b+c+d+e)<=450:\n",
        "     print(\"B grade\")\n",
        "else:\n",
        "\n",
        "  print(\"C grade\")"
      ],
      "metadata": {
        "colab": {
          "base_uri": "https://localhost:8080/"
        },
        "id": "zkSfFHe8gxAR",
        "outputId": "167f129c-819e-4e90-970c-47345e3c4884"
      },
      "execution_count": null,
      "outputs": [
        {
          "output_type": "stream",
          "name": "stdout",
          "text": [
            "enter the maths marks 93\n",
            "enter the physics marks 90\n",
            "enter the chemistry marks 97\n",
            "enter the python marks 78\n",
            "enter the social marks 98\n",
            "A grade\n"
          ]
        }
      ]
    },
    {
      "cell_type": "code",
      "source": [
        "#Conversion of one unit to another\n",
        "a=float(input(\"enter hours\"))\n",
        "print(\"minutes are\",a*60)\n"
      ],
      "metadata": {
        "colab": {
          "base_uri": "https://localhost:8080/"
        },
        "id": "suwHiLaNiWuw",
        "outputId": "94dc85dc-a1c7-4e6d-bdd6-5bbbd181f56e"
      },
      "execution_count": null,
      "outputs": [
        {
          "output_type": "stream",
          "name": "stdout",
          "text": [
            "enter hours3\n",
            "minutes are 180.0\n"
          ]
        }
      ]
    },
    {
      "cell_type": "code",
      "source": [
        "#Usage of mathematical functions in python like math.ceil, floor, fabs, fmod, trunc,\n",
        "import math\n",
        "a=float(input(\"enter a number\"))\n",
        "print(math.ceil(a))\n",
        "print(math.floor(a))\n",
        "print(math.fabs(a))\n",
        "print(math.trunc(a))\n",
        "print(math.sqrt(a))\n",
        "b=float(input(\"enter a number:\"))\n",
        "c=float(input(\"enter a number:\"))\n",
        "print(math.fmod(b,c))\n",
        "print(math.pow(b,c))"
      ],
      "metadata": {
        "colab": {
          "base_uri": "https://localhost:8080/"
        },
        "id": "ipX-xmmlkOWc",
        "outputId": "19ad2327-3263-45fc-a0e7-46628220e23b"
      },
      "execution_count": null,
      "outputs": [
        {
          "output_type": "stream",
          "name": "stdout",
          "text": [
            "enter a number50\n",
            "50\n",
            "50\n",
            "50.0\n",
            "50\n",
            "7.0710678118654755\n",
            "enter a number:60\n",
            "enter a number:70\n",
            "60.0\n",
            "2.9552044145476814e+124\n"
          ]
        }
      ]
    },
    {
      "cell_type": "markdown",
      "source": [
        "**Building a mathematical calculator**"
      ],
      "metadata": {
        "id": "8A0xfnNd9AHa"
      }
    },
    {
      "cell_type": "code",
      "source": [
        "\n",
        "def add(num1, num2):\n",
        "\treturn num1 + num2\n",
        "\n",
        "def subtract(num1, num2):\n",
        "\treturn num1 - num2\n",
        "\n",
        "def multiply(num1, num2):\n",
        "\treturn num1 * num2\n",
        " \n",
        "def divide(num1, num2):\n",
        "\treturn num1 / num2\n",
        "\n",
        "print(\"Please select operation -\\n\" \\\n",
        "\t\t\"1. Add\\n\" \\\n",
        "\t\t\"2. Subtract\\n\" \\\n",
        "\t\t\"3. Multiply\\n\" \\\n",
        "\t\t\"4. Divide\\n\")\n",
        "\n",
        "select = int(input(\"Select operations form 1, 2, 3, 4 :\"))\n",
        "\n",
        "number_1 = int(input(\"Enter first number: \"))\n",
        "number_2 = int(input(\"Enter second number: \"))\n",
        "\n",
        "if select == 1:\n",
        "\tprint(number_1, \"+\", number_2, \"=\",\n",
        "\t\t\t\t\tadd(number_1, number_2))\n",
        "\n",
        "elif select == 2:\n",
        "\tprint(number_1, \"-\", number_2, \"=\",\n",
        "\t\t\t\t\tsubtract(number_1, number_2))\n",
        "\n",
        "elif select == 3:\n",
        "\tprint(number_1, \"*\", number_2, \"=\",\n",
        "\t\t\t\t\tmultiply(number_1, number_2))\n",
        "\n",
        "elif select == 4:\n",
        "\tprint(number_1, \"/\", number_2, \"=\",\n",
        "\t\t\t\t\tdivide(number_1, number_2))\n",
        "else:\n",
        "\tprint(\"Invalid input\")\n"
      ],
      "metadata": {
        "colab": {
          "base_uri": "https://localhost:8080/"
        },
        "id": "8dMviCVM9hNZ",
        "outputId": "c88c0edb-532f-45bf-a682-347d1ab139d8"
      },
      "execution_count": 4,
      "outputs": [
        {
          "output_type": "stream",
          "name": "stdout",
          "text": [
            "Please select operation -\n",
            "1. Add\n",
            "2. Subtract\n",
            "3. Multiply\n",
            "4. Divide\n",
            "\n",
            "Select operations form 1, 2, 3, 4 :4\n",
            "Enter first number: 10\n",
            "Enter second number: 2\n",
            "10 / 2 = 5.0\n"
          ]
        }
      ]
    },
    {
      "cell_type": "code",
      "source": [
        ""
      ],
      "metadata": {
        "id": "AdOMEeR1-Aoy"
      },
      "execution_count": null,
      "outputs": []
    }
  ]
}