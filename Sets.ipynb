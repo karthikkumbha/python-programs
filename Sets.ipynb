{
  "nbformat": 4,
  "nbformat_minor": 0,
  "metadata": {
    "colab": {
      "name": "Sets.ipynb",
      "provenance": [],
      "collapsed_sections": [],
      "authorship_tag": "ABX9TyPo9G4bv4x0VmwZj546yUze",
      "include_colab_link": true
    },
    "kernelspec": {
      "name": "python3",
      "display_name": "Python 3"
    },
    "language_info": {
      "name": "python"
    }
  },
  "cells": [
    {
      "cell_type": "markdown",
      "metadata": {
        "id": "view-in-github",
        "colab_type": "text"
      },
      "source": [
        "<a href=\"https://colab.research.google.com/github/karthikkumbha/python-programs/blob/main/Sets.ipynb\" target=\"_parent\"><img src=\"https://colab.research.google.com/assets/colab-badge.svg\" alt=\"Open In Colab\"/></a>"
      ]
    },
    {
      "cell_type": "markdown",
      "source": [
        "Sets"
      ],
      "metadata": {
        "id": "yMBdNW9dK8OJ"
      }
    },
    {
      "cell_type": "code",
      "source": [
        "set={\"friend\",\"enemy\",\"bolld\"}\n",
        "print(set)"
      ],
      "metadata": {
        "colab": {
          "base_uri": "https://localhost:8080/"
        },
        "id": "guYj-CwxK9F-",
        "outputId": "90cc3dd6-f867-4d5b-f22b-df38be1c2b2f"
      },
      "execution_count": 2,
      "outputs": [
        {
          "output_type": "stream",
          "name": "stdout",
          "text": [
            "{'enemy', 'bolld', 'friend'}\n"
          ]
        }
      ]
    },
    {
      "cell_type": "code",
      "source": [
        "num={\"1\",\"2\",\"3\",\"4\",\"1\"}\n",
        "print(num)"
      ],
      "metadata": {
        "colab": {
          "base_uri": "https://localhost:8080/"
        },
        "id": "aNGmKWCYMziD",
        "outputId": "72815f16-e2c7-4c12-a8b2-81a987d7dc9f"
      },
      "execution_count": 3,
      "outputs": [
        {
          "output_type": "stream",
          "name": "stdout",
          "text": [
            "{'3', '4', '2', '1'}\n"
          ]
        }
      ]
    },
    {
      "cell_type": "code",
      "source": [
        "num={\"1\",\"2\",\"3\",\"4\",\"1\"}\n",
        "print(len(num))"
      ],
      "metadata": {
        "colab": {
          "base_uri": "https://localhost:8080/"
        },
        "id": "Hgw_CgV_NUmM",
        "outputId": "cd6478a2-3b3a-4554-a8db-d2d6a848a738"
      },
      "execution_count": 4,
      "outputs": [
        {
          "output_type": "stream",
          "name": "stdout",
          "text": [
            "4\n"
          ]
        }
      ]
    },
    {
      "cell_type": "code",
      "source": [
        "set1 ={\"1\",\"2\",\"3\",\"4\"}\n",
        "set2 ={\"red\",\"yellow\",\"green\",\"black\"}\n",
        "set3 ={\"dds\",\"ict\",\"vb\",\"meb\"}\n",
        "print(set1)\n",
        "print(set2)\n",
        "print(set3)"
      ],
      "metadata": {
        "colab": {
          "base_uri": "https://localhost:8080/"
        },
        "id": "KXl73vQtNeJd",
        "outputId": "7f93e5a2-29b0-4412-8986-952efdeddc50"
      },
      "execution_count": 6,
      "outputs": [
        {
          "output_type": "stream",
          "name": "stdout",
          "text": [
            "{'3', '4', '2', '1'}\n",
            "{'green', 'yellow', 'red', 'black'}\n",
            "{'vb', 'dds', 'ict', 'meb'}\n"
          ]
        }
      ]
    },
    {
      "cell_type": "code",
      "source": [
        "set={\"abc\", 34, True, 40, \"male\"}\n",
        "print(set)"
      ],
      "metadata": {
        "colab": {
          "base_uri": "https://localhost:8080/"
        },
        "id": "5S4N_bhaO5_w",
        "outputId": "89c5b1bf-eeb2-4fae-cdd1-84e93dc7071b"
      },
      "execution_count": 7,
      "outputs": [
        {
          "output_type": "stream",
          "name": "stdout",
          "text": [
            "{True, 34, 40, 'male', 'abc'}\n"
          ]
        }
      ]
    },
    {
      "cell_type": "code",
      "source": [
        "set=(\"gitam\",\"vit\",\"srm\",\"amrita\")\n",
        "print(type(set))"
      ],
      "metadata": {
        "colab": {
          "base_uri": "https://localhost:8080/"
        },
        "id": "8l2MTsoYPKV2",
        "outputId": "9cdf400b-5a29-41b5-9bfb-c9eddf1edba8"
      },
      "execution_count": 8,
      "outputs": [
        {
          "output_type": "stream",
          "name": "stdout",
          "text": [
            "<class 'tuple'>\n"
          ]
        }
      ]
    },
    {
      "cell_type": "code",
      "source": [
        "set = set((\"dds\", \"ict\", \"vb\"))\n",
        "print(set)"
      ],
      "metadata": {
        "colab": {
          "base_uri": "https://localhost:8080/",
          "height": 182
        },
        "id": "Zde5ALLIPwzh",
        "outputId": "b698165d-180d-4902-d6de-f0b2b58545fa"
      },
      "execution_count": 16,
      "outputs": [
        {
          "output_type": "error",
          "ename": "TypeError",
          "evalue": "ignored",
          "traceback": [
            "\u001b[0;31m---------------------------------------------------------------------------\u001b[0m",
            "\u001b[0;31mTypeError\u001b[0m                                 Traceback (most recent call last)",
            "\u001b[0;32m<ipython-input-16-a86d41d5957a>\u001b[0m in \u001b[0;36m<module>\u001b[0;34m()\u001b[0m\n\u001b[0;32m----> 1\u001b[0;31m \u001b[0mset\u001b[0m \u001b[0;34m=\u001b[0m \u001b[0mset\u001b[0m\u001b[0;34m(\u001b[0m\u001b[0;34m(\u001b[0m\u001b[0;34m\"dds\"\u001b[0m\u001b[0;34m,\u001b[0m \u001b[0;34m\"ict\"\u001b[0m\u001b[0;34m,\u001b[0m \u001b[0;34m\"vb\"\u001b[0m\u001b[0;34m)\u001b[0m\u001b[0;34m)\u001b[0m\u001b[0;34m\u001b[0m\u001b[0;34m\u001b[0m\u001b[0m\n\u001b[0m\u001b[1;32m      2\u001b[0m \u001b[0mprint\u001b[0m\u001b[0;34m(\u001b[0m\u001b[0mset\u001b[0m\u001b[0;34m)\u001b[0m\u001b[0;34m\u001b[0m\u001b[0;34m\u001b[0m\u001b[0m\n",
            "\u001b[0;31mTypeError\u001b[0m: 'tuple' object is not callable"
          ]
        }
      ]
    },
    {
      "cell_type": "markdown",
      "source": [
        "Access Set Items"
      ],
      "metadata": {
        "id": "ymdwondYRpms"
      }
    },
    {
      "cell_type": "code",
      "source": [
        "set={\"1\",\"2\",\"3\",\"4\",\"5\",\"6\",\"7\",\"8\",\"9\",\"10\"}\n",
        "for x in set:\n",
        "  print(set)"
      ],
      "metadata": {
        "colab": {
          "base_uri": "https://localhost:8080/"
        },
        "id": "gFKADWmuRqZG",
        "outputId": "91638599-e563-430c-cf32-c5c47865f309"
      },
      "execution_count": 18,
      "outputs": [
        {
          "output_type": "stream",
          "name": "stdout",
          "text": [
            "{'5', '9', '1', '3', '6', '2', '8', '4', '7', '10'}\n",
            "{'5', '9', '1', '3', '6', '2', '8', '4', '7', '10'}\n",
            "{'5', '9', '1', '3', '6', '2', '8', '4', '7', '10'}\n",
            "{'5', '9', '1', '3', '6', '2', '8', '4', '7', '10'}\n",
            "{'5', '9', '1', '3', '6', '2', '8', '4', '7', '10'}\n",
            "{'5', '9', '1', '3', '6', '2', '8', '4', '7', '10'}\n",
            "{'5', '9', '1', '3', '6', '2', '8', '4', '7', '10'}\n",
            "{'5', '9', '1', '3', '6', '2', '8', '4', '7', '10'}\n",
            "{'5', '9', '1', '3', '6', '2', '8', '4', '7', '10'}\n",
            "{'5', '9', '1', '3', '6', '2', '8', '4', '7', '10'}\n"
          ]
        }
      ]
    },
    {
      "cell_type": "code",
      "source": [
        "set={\"1\",\"2\",\"3\",\"4\",\"5\",\"6\",\"7\",\"8\",\"9\",\"10\"}\n",
        "print(\"11\" in set)"
      ],
      "metadata": {
        "colab": {
          "base_uri": "https://localhost:8080/"
        },
        "id": "TmqCC_spR9yz",
        "outputId": "cc3c6649-7af1-4f56-982e-85e0bbc76e5f"
      },
      "execution_count": 20,
      "outputs": [
        {
          "output_type": "stream",
          "name": "stdout",
          "text": [
            "False\n"
          ]
        }
      ]
    },
    {
      "cell_type": "markdown",
      "source": [
        "Add Set Items"
      ],
      "metadata": {
        "id": "EivY8wdjSZjH"
      }
    },
    {
      "cell_type": "code",
      "source": [
        "set={\"1\",\"2\",\"3\",\"4\",\"5\"}\n",
        "set.add(\"141\")\n",
        "print(set)"
      ],
      "metadata": {
        "colab": {
          "base_uri": "https://localhost:8080/"
        },
        "id": "2lHoqXhWSaG_",
        "outputId": "402ac587-18ab-400f-d932-ed7501560cf0"
      },
      "execution_count": 21,
      "outputs": [
        {
          "output_type": "stream",
          "name": "stdout",
          "text": [
            "{'5', '1', '3', '141', '2', '4'}\n"
          ]
        }
      ]
    },
    {
      "cell_type": "code",
      "source": [
        "set={\"1\",\"2\",\"3\",\"4\",\"5\",\"6\"}\n",
        "prop={\"wow\"}\n",
        "set.update(prop)\n",
        "print(set)"
      ],
      "metadata": {
        "colab": {
          "base_uri": "https://localhost:8080/"
        },
        "id": "jr3R49vDSoqY",
        "outputId": "2e1c8638-5554-487e-8694-a7f4913896e7"
      },
      "execution_count": 25,
      "outputs": [
        {
          "output_type": "stream",
          "name": "stdout",
          "text": [
            "{'5', '1', '3', '6', 'wow', '2', '4'}\n"
          ]
        }
      ]
    },
    {
      "cell_type": "code",
      "source": [
        "set={\"1\",\"2\",\"3\",\"4\",\"5\",\"6\"}\n",
        "mylist=[\"121\",\"123\",\"1321\"]\n",
        "set.update(mylist)\n",
        "print(set)"
      ],
      "metadata": {
        "colab": {
          "base_uri": "https://localhost:8080/"
        },
        "id": "ZiQJiFNOTHTe",
        "outputId": "ce886b45-7298-47d7-9d59-f807c16461c3"
      },
      "execution_count": 26,
      "outputs": [
        {
          "output_type": "stream",
          "name": "stdout",
          "text": [
            "{'5', '123', '1', '3', '6', '2', '4', '1321', '121'}\n"
          ]
        }
      ]
    },
    {
      "cell_type": "markdown",
      "source": [
        "Remove Set Items"
      ],
      "metadata": {
        "id": "zcE9gleGURny"
      }
    },
    {
      "cell_type": "code",
      "source": [
        "set={\"1\",\"2\",\"3\",\"4\",\"5\",\"6\"}\n",
        "set.remove(\"1\")\n",
        "print(set)"
      ],
      "metadata": {
        "colab": {
          "base_uri": "https://localhost:8080/"
        },
        "id": "UhaqPlRTUScW",
        "outputId": "8b01758b-a0d8-4a2c-e1cb-d405b6835733"
      },
      "execution_count": 28,
      "outputs": [
        {
          "output_type": "stream",
          "name": "stdout",
          "text": [
            "{'5', '3', '6', '2', '4'}\n"
          ]
        }
      ]
    },
    {
      "cell_type": "code",
      "source": [
        "set = {\"apple\", \"banana\", \"cherry\"}\n",
        "set.discard(\"banana\")\n",
        "print(set)\n"
      ],
      "metadata": {
        "colab": {
          "base_uri": "https://localhost:8080/"
        },
        "id": "cO8QQQDIUhUe",
        "outputId": "cb7f0188-9adc-4031-b5b9-253ea33d87cf"
      },
      "execution_count": 30,
      "outputs": [
        {
          "output_type": "stream",
          "name": "stdout",
          "text": [
            "{'apple', 'cherry'}\n"
          ]
        }
      ]
    },
    {
      "cell_type": "code",
      "source": [
        "set={\"1\",\"2\",\"3\",\"4\",\"5\",\"6\",\"7\",\"8\",\"9\",\"10\"}\n",
        "x=set.pop()\n",
        "print(x)\n",
        "print(set)"
      ],
      "metadata": {
        "colab": {
          "base_uri": "https://localhost:8080/"
        },
        "id": "Q9byWRdoUwSR",
        "outputId": "b27db52d-37f9-458c-d78d-143f901cbcf0"
      },
      "execution_count": 33,
      "outputs": [
        {
          "output_type": "stream",
          "name": "stdout",
          "text": [
            "5\n",
            "{'9', '1', '3', '6', '2', '8', '4', '7', '10'}\n"
          ]
        }
      ]
    },
    {
      "cell_type": "code",
      "source": [
        "set = {\"dds\", \"vb\", \"ict\"}\n",
        "set.clear()\n",
        "print(set)"
      ],
      "metadata": {
        "colab": {
          "base_uri": "https://localhost:8080/"
        },
        "id": "EQ-6JtJ9VJVg",
        "outputId": "1a30962e-41f6-475b-f896-84497170651e"
      },
      "execution_count": 34,
      "outputs": [
        {
          "output_type": "stream",
          "name": "stdout",
          "text": [
            "set()\n"
          ]
        }
      ]
    },
    {
      "cell_type": "code",
      "source": [
        "set = {\"dds\", \"vb\", \"ict\"}\n",
        "del set\n",
        "print(set)"
      ],
      "metadata": {
        "colab": {
          "base_uri": "https://localhost:8080/"
        },
        "id": "koF0sfmrVgLt",
        "outputId": "2477eddd-6b8c-4470-bd99-9abc90653977"
      },
      "execution_count": 35,
      "outputs": [
        {
          "output_type": "stream",
          "name": "stdout",
          "text": [
            "<class 'set'>\n"
          ]
        }
      ]
    },
    {
      "cell_type": "markdown",
      "source": [
        "Loop Sets"
      ],
      "metadata": {
        "id": "Gqk4JG_LV5fG"
      }
    },
    {
      "cell_type": "code",
      "source": [
        "set = {\"mech\", \"cse\", \"ece\",\"eee\",}\n",
        "for x in set:\n",
        "  print(x)\n"
      ],
      "metadata": {
        "colab": {
          "base_uri": "https://localhost:8080/"
        },
        "id": "frjYKpGZV6Iq",
        "outputId": "7b7c5d99-1b03-4eff-96a8-42047f182dbf"
      },
      "execution_count": 36,
      "outputs": [
        {
          "output_type": "stream",
          "name": "stdout",
          "text": [
            "cse\n",
            "ece\n",
            "eee\n",
            "mech\n"
          ]
        }
      ]
    },
    {
      "cell_type": "markdown",
      "source": [
        "Join Sets"
      ],
      "metadata": {
        "id": "BZJcE5s5WRdK"
      }
    },
    {
      "cell_type": "code",
      "source": [
        "set1 = {\"ict\", \"vb\" , \",eb\"}\n",
        "set2 = {1, 2, 3}\n",
        "set3 = set1.union(set2)\n",
        "print(set3)"
      ],
      "metadata": {
        "colab": {
          "base_uri": "https://localhost:8080/"
        },
        "id": "ywg2DXk6WR5G",
        "outputId": "d3017972-05d7-459b-e3c0-4463e367a052"
      },
      "execution_count": 40,
      "outputs": [
        {
          "output_type": "stream",
          "name": "stdout",
          "text": [
            "{1, 2, 3, 'vb', 'ict', ',eb'}\n"
          ]
        }
      ]
    },
    {
      "cell_type": "code",
      "source": [
        "set1 = {\"ict\", \"vb\" , \",eb\"}\n",
        "set2 = {1, 2, 3}\n",
        "set1.update(set2)\n",
        "print(set1)"
      ],
      "metadata": {
        "colab": {
          "base_uri": "https://localhost:8080/"
        },
        "id": "LX01WZ88Wq2e",
        "outputId": "38bd849f-7a3c-490f-91ba-24797750785d"
      },
      "execution_count": 41,
      "outputs": [
        {
          "output_type": "stream",
          "name": "stdout",
          "text": [
            "{1, 2, 3, 'vb', 'ict', ',eb'}\n"
          ]
        }
      ]
    },
    {
      "cell_type": "code",
      "source": [
        "x = {\"apple\", \"banana\", \"cherry\"}\n",
        "y = {\"google\", \"microsoft\", \"apple\"}\n",
        "x.intersection_update(y)\n",
        "print(x)"
      ],
      "metadata": {
        "colab": {
          "base_uri": "https://localhost:8080/"
        },
        "id": "-_twwcE1W1Ec",
        "outputId": "44c3e184-31c1-4b91-b053-787f8713a0f2"
      },
      "execution_count": 42,
      "outputs": [
        {
          "output_type": "stream",
          "name": "stdout",
          "text": [
            "{'apple'}\n"
          ]
        }
      ]
    },
    {
      "cell_type": "code",
      "source": [
        "x = {\"apple\", \"banana\", \"cherry\"}\n",
        "y = {\"google\", \"microsoft\", \"apple\"}\n",
        "z = x.intersection(y)\n",
        "print(z)\n"
      ],
      "metadata": {
        "colab": {
          "base_uri": "https://localhost:8080/"
        },
        "id": "rBLtrixSYTEj",
        "outputId": "d0847dd2-2b92-405b-b77a-f596da90fa5f"
      },
      "execution_count": 43,
      "outputs": [
        {
          "output_type": "stream",
          "name": "stdout",
          "text": [
            "{'apple'}\n"
          ]
        }
      ]
    },
    {
      "cell_type": "code",
      "source": [
        "x={\"1\",\"2\",\"3\",\"4\"}\n",
        "y={\"ict\",\"vb\",\"meb\"}\n",
        "x.symmetric_difference_update(y)\n",
        "print(x)"
      ],
      "metadata": {
        "colab": {
          "base_uri": "https://localhost:8080/"
        },
        "id": "s3daZD3OYlvJ",
        "outputId": "a4b598c1-a3eb-41aa-b87c-d6e1848aa139"
      },
      "execution_count": 44,
      "outputs": [
        {
          "output_type": "stream",
          "name": "stdout",
          "text": [
            "{'vb', '1', '3', '2', '4', 'ict', 'meb'}\n"
          ]
        }
      ]
    },
    {
      "cell_type": "code",
      "source": [
        ""
      ],
      "metadata": {
        "id": "2_PNVm0gZKLE"
      },
      "execution_count": null,
      "outputs": []
    }
  ]
}