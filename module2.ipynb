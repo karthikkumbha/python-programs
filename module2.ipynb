{
  "nbformat": 4,
  "nbformat_minor": 0,
  "metadata": {
    "colab": {
      "name": "module2.ipynb",
      "provenance": [],
      "collapsed_sections": [],
      "authorship_tag": "ABX9TyOJikMrj6qX/lKnpWl67zhS",
      "include_colab_link": true
    },
    "kernelspec": {
      "name": "python3",
      "display_name": "Python 3"
    },
    "language_info": {
      "name": "python"
    }
  },
  "cells": [
    {
      "cell_type": "markdown",
      "metadata": {
        "id": "view-in-github",
        "colab_type": "text"
      },
      "source": [
        "<a href=\"https://colab.research.google.com/github/karthikkumbha/python-programs/blob/main/module2.ipynb\" target=\"_parent\"><img src=\"https://colab.research.google.com/assets/colab-badge.svg\" alt=\"Open In Colab\"/></a>"
      ]
    },
    {
      "cell_type": "code",
      "execution_count": 1,
      "metadata": {
        "colab": {
          "base_uri": "https://localhost:8080/"
        },
        "id": "rAOdlq3y5m7x",
        "outputId": "d0128399-1b48-4e41-9e38-98c0c645b193"
      },
      "outputs": [
        {
          "output_type": "stream",
          "name": "stdout",
          "text": [
            "['Green', 'White', 'Black']\n"
          ]
        }
      ],
      "source": [
        "#Program to print a specified list after removing the 0th, 4th and 5th elements.\n",
        "#Sample List : ['Red', 'Green', 'White', 'Black', 'Pink', 'Yellow']\n",
        "#Expected Output : ['Green', 'White', 'Black']\n",
        "karthik=['Red','Green','White','Black', 'Pink', 'Yellow']\n",
        "karthik=[r for (g,r) in enumerate (karthik) if g not in (0,4,5)]\n",
        "print(karthik)"
      ]
    },
    {
      "cell_type": "code",
      "source": [
        "##Create a function which accepts two inputs from the user and compute n\n",
        "def nCr(d,o):\n",
        "  return(fact(d)/(fact(o)\n",
        "                 *fact(d-o)))\n",
        "d=int(input(\"\"))\n",
        "o=int(input(\"\"))\n",
        "def fact(d):\n",
        "    res=1\n",
        "    for i in range(2,d+1):\n",
        "      res=res*i\n",
        "    return res  \n",
        "print(int(nCr(d,o)))    "
      ],
      "metadata": {
        "colab": {
          "base_uri": "https://localhost:8080/"
        },
        "id": "O-wDSCNa8KqA",
        "outputId": "f8248d08-8f4f-4cad-8917-73deea89e8bf"
      },
      "execution_count": 11,
      "outputs": [
        {
          "output_type": "stream",
          "name": "stdout",
          "text": [
            "5\n",
            "5\n",
            "1\n"
          ]
        }
      ]
    },
    {
      "cell_type": "code",
      "source": [
        "#Given list of tuples, remove all the tuples with length K.\n",
        "#Input : test_list = [(4, 5), (4, ), (8, 6, 7), (1, ), (3, 4, 6, 7)], K = 2\n",
        "#Output : [(4, ), (8, 6, 7), (1, ), (3, 4, 6, 7)]\n",
        "#Explanation : (4, 5) of len = 2 is removed.\n",
        "karthik=[(4, 5), (4, ), (8, 6, 7), (1, ), (3, 4, 6, 7)]\n",
        "print(\"original list:\"+str(karthik))\n",
        "k = int(input(\"Enter the length of tuples you want to eliminate: \"))\n",
        "fin=[]\n",
        "for i in range(0,len(karthik)):\n",
        "   if len(karthik[i]) !=k:\n",
        "    fin.append(karthik[i])\n",
        "\n",
        "print(\"Filtered list:\"+str(fin))"
      ],
      "metadata": {
        "colab": {
          "base_uri": "https://localhost:8080/"
        },
        "id": "z_oCz7cR9Yv-",
        "outputId": "f429933a-7850-40c0-80a6-604c835c1a8d"
      },
      "execution_count": 16,
      "outputs": [
        {
          "output_type": "stream",
          "name": "stdout",
          "text": [
            "original list:[(4, 5), (4,), (8, 6, 7), (1,), (3, 4, 6, 7)]\n",
            "Enter the length of tuples you want to eliminate: 2\n",
            "Filtered list:[(4,), (8, 6, 7), (1,), (3, 4, 6, 7)]\n"
          ]
        }
      ]
    },
    {
      "cell_type": "code",
      "source": [
        "#x Given list of tuples, remove all the tuples with length K.\n",
        "#Input : test_list = [(4, 5), (4, ), (8, 6, 7), (1, ), (3, 4, 6, 7)], K = 2\n",
        "#Output : [(4, ), (8, 6, 7), (1, ), (3, 4, 6, 7)]\n",
        "#Explanation : (4, 5) of len = 2 is removed.\n",
        "K=int(input(\"enter the number: \"))\n",
        "d=dict()\n",
        "for x in range(1,k+1):\n",
        "   d[x]=x*x\n",
        "print(d)"
      ],
      "metadata": {
        "colab": {
          "base_uri": "https://localhost:8080/"
        },
        "id": "biBK23oCAzDq",
        "outputId": "4facc5a2-4ac2-45b8-cf9a-171afab35fed"
      },
      "execution_count": 24,
      "outputs": [
        {
          "output_type": "stream",
          "name": "stdout",
          "text": [
            "enter the number: 3\n",
            "{1: 1, 2: 4}\n"
          ]
        }
      ]
    },
    {
      "cell_type": "code",
      "source": [
        "#"
      ],
      "metadata": {
        "id": "3JVobczcFndW"
      },
      "execution_count": 24,
      "outputs": []
    }
  ]
}